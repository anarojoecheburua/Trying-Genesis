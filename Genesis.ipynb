{
  "cells": [
    {
      "cell_type": "code",
      "source": [],
      "metadata": {
        "id": "3umSFdEKdvjG"
      },
      "execution_count": null,
      "outputs": []
    },
    {
      "cell_type": "code",
      "execution_count": 1,
      "metadata": {
        "colab": {
          "base_uri": "https://localhost:8080/"
        },
        "id": "Hv2owGd4YjkB",
        "outputId": "77d03db4-ab3b-4c48-a2c5-6740b4899ab3"
      },
      "outputs": [
        {
          "output_type": "stream",
          "name": "stdout",
          "text": [
            "Requirement already satisfied: genesis-world in /usr/local/lib/python3.11/dist-packages (0.2.1)\n",
            "Requirement already satisfied: psutil in /usr/local/lib/python3.11/dist-packages (from genesis-world) (5.9.5)\n",
            "Requirement already satisfied: scikit-image in /usr/local/lib/python3.11/dist-packages (from genesis-world) (0.25.0)\n",
            "Requirement already satisfied: taichi==1.7.3 in /usr/local/lib/python3.11/dist-packages (from genesis-world) (1.7.3)\n",
            "Requirement already satisfied: pydantic==2.7.1 in /usr/local/lib/python3.11/dist-packages (from genesis-world) (2.7.1)\n",
            "Requirement already satisfied: numpy==1.26.4 in /usr/local/lib/python3.11/dist-packages (from genesis-world) (1.26.4)\n",
            "Requirement already satisfied: six in /usr/local/lib/python3.11/dist-packages (from genesis-world) (1.17.0)\n",
            "Requirement already satisfied: PyOpenGL in /usr/local/lib/python3.11/dist-packages (from genesis-world) (3.1.7)\n",
            "Requirement already satisfied: freetype-py in /usr/local/lib/python3.11/dist-packages (from genesis-world) (2.5.1)\n",
            "Requirement already satisfied: pyglet in /usr/local/lib/python3.11/dist-packages (from genesis-world) (2.1.0)\n",
            "Requirement already satisfied: libigl in /usr/local/lib/python3.11/dist-packages (from genesis-world) (2.5.1)\n",
            "Requirement already satisfied: pygltflib==1.16.0 in /usr/local/lib/python3.11/dist-packages (from genesis-world) (1.16.0)\n",
            "Requirement already satisfied: mujoco==3.2.5 in /usr/local/lib/python3.11/dist-packages (from genesis-world) (3.2.5)\n",
            "Requirement already satisfied: pycollada in /usr/local/lib/python3.11/dist-packages (from genesis-world) (0.8)\n",
            "Requirement already satisfied: opencv-python in /usr/local/lib/python3.11/dist-packages (from genesis-world) (4.10.0.84)\n",
            "Requirement already satisfied: lxml in /usr/local/lib/python3.11/dist-packages (from genesis-world) (5.3.0)\n",
            "Requirement already satisfied: tetgen==0.6.4 in /usr/local/lib/python3.11/dist-packages (from genesis-world) (0.6.4)\n",
            "Requirement already satisfied: screeninfo in /usr/local/lib/python3.11/dist-packages (from genesis-world) (0.8.1)\n",
            "Requirement already satisfied: PyGEL3D in /usr/local/lib/python3.11/dist-packages (from genesis-world) (0.5.2)\n",
            "Requirement already satisfied: moviepy>=2.0.0 in /usr/local/lib/python3.11/dist-packages (from genesis-world) (2.1.2)\n",
            "Requirement already satisfied: numba in /usr/local/lib/python3.11/dist-packages (from genesis-world) (0.60.0)\n",
            "Requirement already satisfied: pymeshlab in /usr/local/lib/python3.11/dist-packages (from genesis-world) (2023.12.post2)\n",
            "Requirement already satisfied: coacd in /usr/local/lib/python3.11/dist-packages (from genesis-world) (1.0.5)\n",
            "Requirement already satisfied: OpenEXR in /usr/local/lib/python3.11/dist-packages (from genesis-world) (3.3.2)\n",
            "Requirement already satisfied: black in /usr/local/lib/python3.11/dist-packages (from genesis-world) (24.10.0)\n",
            "Requirement already satisfied: absl-py in /usr/local/lib/python3.11/dist-packages (from mujoco==3.2.5->genesis-world) (1.4.0)\n",
            "Requirement already satisfied: etils[epath] in /usr/local/lib/python3.11/dist-packages (from mujoco==3.2.5->genesis-world) (1.11.0)\n",
            "Requirement already satisfied: glfw in /usr/local/lib/python3.11/dist-packages (from mujoco==3.2.5->genesis-world) (2.8.0)\n",
            "Requirement already satisfied: annotated-types>=0.4.0 in /usr/local/lib/python3.11/dist-packages (from pydantic==2.7.1->genesis-world) (0.7.0)\n",
            "Requirement already satisfied: pydantic-core==2.18.2 in /usr/local/lib/python3.11/dist-packages (from pydantic==2.7.1->genesis-world) (2.18.2)\n",
            "Requirement already satisfied: typing-extensions>=4.6.1 in /usr/local/lib/python3.11/dist-packages (from pydantic==2.7.1->genesis-world) (4.12.2)\n",
            "Requirement already satisfied: dataclasses-json>=0.0.25 in /usr/local/lib/python3.11/dist-packages (from pygltflib==1.16.0->genesis-world) (0.6.7)\n",
            "Requirement already satisfied: deprecated in /usr/local/lib/python3.11/dist-packages (from pygltflib==1.16.0->genesis-world) (1.2.15)\n",
            "Requirement already satisfied: colorama in /usr/local/lib/python3.11/dist-packages (from taichi==1.7.3->genesis-world) (0.4.6)\n",
            "Requirement already satisfied: dill in /usr/local/lib/python3.11/dist-packages (from taichi==1.7.3->genesis-world) (0.3.9)\n",
            "Requirement already satisfied: rich in /usr/local/lib/python3.11/dist-packages (from taichi==1.7.3->genesis-world) (13.9.4)\n",
            "Requirement already satisfied: pyvista>=0.31.0 in /usr/local/lib/python3.11/dist-packages (from tetgen==0.6.4->genesis-world) (0.44.2)\n",
            "Requirement already satisfied: decorator<6.0,>=4.0.2 in /usr/local/lib/python3.11/dist-packages (from moviepy>=2.0.0->genesis-world) (4.4.2)\n",
            "Requirement already satisfied: imageio<3.0,>=2.5 in /usr/local/lib/python3.11/dist-packages (from moviepy>=2.0.0->genesis-world) (2.36.1)\n",
            "Requirement already satisfied: imageio_ffmpeg>=0.2.0 in /usr/local/lib/python3.11/dist-packages (from moviepy>=2.0.0->genesis-world) (0.5.1)\n",
            "Requirement already satisfied: proglog<=1.0.0 in /usr/local/lib/python3.11/dist-packages (from moviepy>=2.0.0->genesis-world) (0.1.10)\n",
            "Requirement already satisfied: python-dotenv>=0.10 in /usr/local/lib/python3.11/dist-packages (from moviepy>=2.0.0->genesis-world) (1.0.1)\n",
            "Requirement already satisfied: pillow<11.0,>=9.2.0 in /usr/local/lib/python3.11/dist-packages (from moviepy>=2.0.0->genesis-world) (10.4.0)\n",
            "Requirement already satisfied: click>=8.0.0 in /usr/local/lib/python3.11/dist-packages (from black->genesis-world) (8.1.8)\n",
            "Requirement already satisfied: mypy-extensions>=0.4.3 in /usr/local/lib/python3.11/dist-packages (from black->genesis-world) (1.0.0)\n",
            "Requirement already satisfied: packaging>=22.0 in /usr/local/lib/python3.11/dist-packages (from black->genesis-world) (24.2)\n",
            "Requirement already satisfied: pathspec>=0.9.0 in /usr/local/lib/python3.11/dist-packages (from black->genesis-world) (0.12.1)\n",
            "Requirement already satisfied: platformdirs>=2 in /usr/local/lib/python3.11/dist-packages (from black->genesis-world) (4.3.6)\n",
            "Requirement already satisfied: scipy in /usr/local/lib/python3.11/dist-packages (from libigl->genesis-world) (1.13.1)\n",
            "Requirement already satisfied: llvmlite<0.44,>=0.43.0dev0 in /usr/local/lib/python3.11/dist-packages (from numba->genesis-world) (0.43.0)\n",
            "Requirement already satisfied: python-dateutil>=2.2 in /usr/local/lib/python3.11/dist-packages (from pycollada->genesis-world) (2.8.2)\n",
            "Requirement already satisfied: plotly in /usr/local/lib/python3.11/dist-packages (from PyGEL3D->genesis-world) (5.24.1)\n",
            "Requirement already satisfied: networkx>=3.0 in /usr/local/lib/python3.11/dist-packages (from scikit-image->genesis-world) (3.4.2)\n",
            "Requirement already satisfied: tifffile>=2022.8.12 in /usr/local/lib/python3.11/dist-packages (from scikit-image->genesis-world) (2024.12.12)\n",
            "Requirement already satisfied: lazy-loader>=0.4 in /usr/local/lib/python3.11/dist-packages (from scikit-image->genesis-world) (0.4)\n",
            "Requirement already satisfied: marshmallow<4.0.0,>=3.18.0 in /usr/local/lib/python3.11/dist-packages (from dataclasses-json>=0.0.25->pygltflib==1.16.0->genesis-world) (3.25.1)\n",
            "Requirement already satisfied: typing-inspect<1,>=0.4.0 in /usr/local/lib/python3.11/dist-packages (from dataclasses-json>=0.0.25->pygltflib==1.16.0->genesis-world) (0.9.0)\n",
            "Requirement already satisfied: setuptools in /usr/local/lib/python3.11/dist-packages (from imageio_ffmpeg>=0.2.0->moviepy>=2.0.0->genesis-world) (75.1.0)\n",
            "Requirement already satisfied: tqdm in /usr/local/lib/python3.11/dist-packages (from proglog<=1.0.0->moviepy>=2.0.0->genesis-world) (4.67.1)\n",
            "Requirement already satisfied: matplotlib>=3.0.1 in /usr/local/lib/python3.11/dist-packages (from pyvista>=0.31.0->tetgen==0.6.4->genesis-world) (3.10.0)\n",
            "Requirement already satisfied: pooch in /usr/local/lib/python3.11/dist-packages (from pyvista>=0.31.0->tetgen==0.6.4->genesis-world) (1.8.2)\n",
            "Requirement already satisfied: scooby>=0.5.1 in /usr/local/lib/python3.11/dist-packages (from pyvista>=0.31.0->tetgen==0.6.4->genesis-world) (0.10.0)\n",
            "Requirement already satisfied: vtk<9.4.0 in /usr/local/lib/python3.11/dist-packages (from pyvista>=0.31.0->tetgen==0.6.4->genesis-world) (9.3.1)\n",
            "Requirement already satisfied: wrapt<2,>=1.10 in /usr/local/lib/python3.11/dist-packages (from deprecated->pygltflib==1.16.0->genesis-world) (1.17.0)\n",
            "Requirement already satisfied: fsspec in /usr/local/lib/python3.11/dist-packages (from etils[epath]->mujoco==3.2.5->genesis-world) (2024.10.0)\n",
            "Requirement already satisfied: importlib_resources in /usr/local/lib/python3.11/dist-packages (from etils[epath]->mujoco==3.2.5->genesis-world) (6.5.2)\n",
            "Requirement already satisfied: zipp in /usr/local/lib/python3.11/dist-packages (from etils[epath]->mujoco==3.2.5->genesis-world) (3.21.0)\n",
            "Requirement already satisfied: tenacity>=6.2.0 in /usr/local/lib/python3.11/dist-packages (from plotly->PyGEL3D->genesis-world) (9.0.0)\n",
            "Requirement already satisfied: markdown-it-py>=2.2.0 in /usr/local/lib/python3.11/dist-packages (from rich->taichi==1.7.3->genesis-world) (3.0.0)\n",
            "Requirement already satisfied: pygments<3.0.0,>=2.13.0 in /usr/local/lib/python3.11/dist-packages (from rich->taichi==1.7.3->genesis-world) (2.18.0)\n",
            "Requirement already satisfied: mdurl~=0.1 in /usr/local/lib/python3.11/dist-packages (from markdown-it-py>=2.2.0->rich->taichi==1.7.3->genesis-world) (0.1.2)\n",
            "Requirement already satisfied: contourpy>=1.0.1 in /usr/local/lib/python3.11/dist-packages (from matplotlib>=3.0.1->pyvista>=0.31.0->tetgen==0.6.4->genesis-world) (1.3.1)\n",
            "Requirement already satisfied: cycler>=0.10 in /usr/local/lib/python3.11/dist-packages (from matplotlib>=3.0.1->pyvista>=0.31.0->tetgen==0.6.4->genesis-world) (0.12.1)\n",
            "Requirement already satisfied: fonttools>=4.22.0 in /usr/local/lib/python3.11/dist-packages (from matplotlib>=3.0.1->pyvista>=0.31.0->tetgen==0.6.4->genesis-world) (4.55.3)\n",
            "Requirement already satisfied: kiwisolver>=1.3.1 in /usr/local/lib/python3.11/dist-packages (from matplotlib>=3.0.1->pyvista>=0.31.0->tetgen==0.6.4->genesis-world) (1.4.8)\n",
            "Requirement already satisfied: pyparsing>=2.3.1 in /usr/local/lib/python3.11/dist-packages (from matplotlib>=3.0.1->pyvista>=0.31.0->tetgen==0.6.4->genesis-world) (3.2.1)\n",
            "Requirement already satisfied: requests>=2.19.0 in /usr/local/lib/python3.11/dist-packages (from pooch->pyvista>=0.31.0->tetgen==0.6.4->genesis-world) (2.32.3)\n",
            "Requirement already satisfied: charset-normalizer<4,>=2 in /usr/local/lib/python3.11/dist-packages (from requests>=2.19.0->pooch->pyvista>=0.31.0->tetgen==0.6.4->genesis-world) (3.4.1)\n",
            "Requirement already satisfied: idna<4,>=2.5 in /usr/local/lib/python3.11/dist-packages (from requests>=2.19.0->pooch->pyvista>=0.31.0->tetgen==0.6.4->genesis-world) (3.10)\n",
            "Requirement already satisfied: urllib3<3,>=1.21.1 in /usr/local/lib/python3.11/dist-packages (from requests>=2.19.0->pooch->pyvista>=0.31.0->tetgen==0.6.4->genesis-world) (2.3.0)\n",
            "Requirement already satisfied: certifi>=2017.4.17 in /usr/local/lib/python3.11/dist-packages (from requests>=2.19.0->pooch->pyvista>=0.31.0->tetgen==0.6.4->genesis-world) (2024.12.14)\n"
          ]
        }
      ],
      "source": [
        "pip install genesis-world"
      ]
    },
    {
      "cell_type": "code",
      "execution_count": 2,
      "metadata": {
        "id": "9w2HqEAyYX7-"
      },
      "outputs": [],
      "source": [
        "import genesis as gs"
      ]
    },
    {
      "cell_type": "code",
      "source": [
        "import numpy as np\n",
        "from PIL import Image\n",
        "import os"
      ],
      "metadata": {
        "id": "aD-YDXVOh0-z"
      },
      "execution_count": 3,
      "outputs": []
    },
    {
      "cell_type": "code",
      "execution_count": 4,
      "metadata": {
        "colab": {
          "base_uri": "https://localhost:8080/"
        },
        "id": "2B62ZKewZP5a",
        "outputId": "0e1716e4-c6ae-4f44-e91f-dd31d27da7f5"
      },
      "outputs": [
        {
          "output_type": "stream",
          "name": "stderr",
          "text": [
            "\u001b[38;5;159m[Genesis] [22:16:04] [INFO] \u001b[38;5;121m╭───────────────────────────────────────────────╮\u001b[0m\u001b[38;5;159m\u001b[0m\n",
            "INFO:genesis:~<╭───────────────────────────────────────────────╮>~\n",
            "\u001b[38;5;159m[Genesis] [22:16:04] [INFO] \u001b[38;5;121m│┈┉┈┉┈┉┈┉┈┉┈┉┈┉┈┉┈┉┈\u001b[0m\u001b[38;5;159m \u001b[38;5;121m\u001b[1m\u001b[3mGenesis\u001b[0m\u001b[38;5;159m \u001b[38;5;121m┈┉┈┉┈┉┈┉┈┉┈┉┈┉┈┉┈┉┈│\u001b[0m\u001b[38;5;159m\u001b[0m\n",
            "INFO:genesis:~<│┈┉┈┉┈┉┈┉┈┉┈┉┈┉┈┉┈┉┈>~ ~~~~<Genesis>~~~~ ~<┈┉┈┉┈┉┈┉┈┉┈┉┈┉┈┉┈┉┈│>~\n",
            "\u001b[38;5;159m[Genesis] [22:16:04] [INFO] \u001b[38;5;121m╰───────────────────────────────────────────────╯\u001b[0m\u001b[38;5;159m\u001b[0m\n",
            "INFO:genesis:~<╰───────────────────────────────────────────────╯>~\n",
            "\u001b[38;5;159m[Genesis] [22:16:04] [INFO] Running on \u001b[38;5;121m\u001b[4m[NVIDIA A100-SXM4-40GB]\u001b[0m\u001b[38;5;159m with backend \u001b[38;5;121m\u001b[4mgs.cuda\u001b[0m\u001b[38;5;159m. Device memory: \u001b[38;5;121m\u001b[4m39.56\u001b[0m\u001b[38;5;159m GB.\u001b[0m\n",
            "INFO:genesis:Running on ~~<[NVIDIA A100-SXM4-40GB]>~~ with backend ~~<gs.cuda>~~. Device memory: ~~<39.56>~~ GB.\n",
            "\u001b[38;5;159m[Genesis] [22:16:04] [INFO] 🚀 Genesis initialized. 🔖 version: \u001b[38;5;121m\u001b[4m0.2.1\u001b[0m\u001b[38;5;159m, 🌱 seed: \u001b[38;5;121m\u001b[4mNone\u001b[0m\u001b[38;5;159m, 📏 precision: '\u001b[38;5;121m\u001b[4m32\u001b[0m\u001b[38;5;159m', 🐛 debug: \u001b[38;5;121m\u001b[4mFalse\u001b[0m\u001b[38;5;159m, 🎨 theme: '\u001b[38;5;121m\u001b[4mdark\u001b[0m\u001b[38;5;159m'.\u001b[0m\n",
            "INFO:genesis:🚀 Genesis initialized. 🔖 version: ~~<0.2.1>~~, 🌱 seed: ~~<None>~~, 📏 precision: '~~<32>~~', 🐛 debug: ~~<False>~~, 🎨 theme: '~~<dark>~~'.\n"
          ]
        }
      ],
      "source": [
        "gs.init(theme='dark', backend=gs.cuda)"
      ]
    },
    {
      "cell_type": "code",
      "source": [
        "# Create a directory to save the results\n",
        "save_dir = \"/content/simulation_frames\"\n",
        "os.makedirs(save_dir, exist_ok=True)"
      ],
      "metadata": {
        "id": "c1pM0l3gh4om"
      },
      "execution_count": 5,
      "outputs": []
    },
    {
      "cell_type": "code",
      "execution_count": 6,
      "metadata": {
        "colab": {
          "base_uri": "https://localhost:8080/"
        },
        "id": "aZP75KR3Zst5",
        "outputId": "998e32d8-79e3-4688-d9b4-e7d409cc3487"
      },
      "outputs": [
        {
          "output_type": "stream",
          "name": "stderr",
          "text": [
            "\u001b[38;5;159m[Genesis] [22:16:05] [INFO] Scene \u001b[38;5;121m\u001b[3m<acae445>\u001b[0m\u001b[38;5;159m created.\u001b[0m\n",
            "INFO:genesis:Scene ~~~<<acae445>>~~~ created.\n"
          ]
        }
      ],
      "source": [
        "scene = gs.Scene(show_viewer=False)"
      ]
    },
    {
      "cell_type": "code",
      "source": [
        "# Add objects\n",
        "plane = scene.add_entity(gs.morphs.Plane())\n",
        "box = scene.add_entity(\n",
        "    gs.morphs.Box(\n",
        "        pos=(0, 0, 0),\n",
        "        size=(0.5, 0.5, 0.5)\n",
        "    )\n",
        ")"
      ],
      "metadata": {
        "colab": {
          "base_uri": "https://localhost:8080/"
        },
        "id": "nv9Z6KVSi8Wt",
        "outputId": "6ffdd16d-f81c-4761-efd4-467f3ab61690"
      },
      "execution_count": 7,
      "outputs": [
        {
          "output_type": "stream",
          "name": "stderr",
          "text": [
            "\u001b[38;5;159m[Genesis] [22:16:05] [INFO] Adding \u001b[38;5;121m<gs.RigidEntity>\u001b[0m\u001b[38;5;159m. idx: \u001b[38;5;121m0\u001b[0m\u001b[38;5;159m, uid: \u001b[38;5;121m\u001b[3m<abc3fb9>\u001b[0m\u001b[38;5;159m, morph: \u001b[38;5;121m<gs.morphs.Plane>\u001b[0m\u001b[38;5;159m, material: \u001b[38;5;121m<gs.materials.Rigid>\u001b[0m\u001b[38;5;159m.\u001b[0m\n",
            "INFO:genesis:Adding ~<<gs.RigidEntity>>~. idx: ~<0>~, uid: ~~~<<abc3fb9>>~~~, morph: ~<<gs.morphs.Plane>>~, material: ~<<gs.materials.Rigid>>~.\n",
            "\u001b[38;5;159m[Genesis] [22:16:05] [INFO] Adding \u001b[38;5;121m<gs.RigidEntity>\u001b[0m\u001b[38;5;159m. idx: \u001b[38;5;121m1\u001b[0m\u001b[38;5;159m, uid: \u001b[38;5;121m\u001b[3m<15a30a7>\u001b[0m\u001b[38;5;159m, morph: \u001b[38;5;121m<gs.morphs.Box>\u001b[0m\u001b[38;5;159m, material: \u001b[38;5;121m<gs.materials.Rigid>\u001b[0m\u001b[38;5;159m.\u001b[0m\n",
            "INFO:genesis:Adding ~<<gs.RigidEntity>>~. idx: ~<1>~, uid: ~~~<<15a30a7>>~~~, morph: ~<<gs.morphs.Box>>~, material: ~<<gs.materials.Rigid>>~.\n"
          ]
        }
      ]
    },
    {
      "cell_type": "code",
      "source": [
        "# Camera settings\n",
        "cam = scene.add_camera(\n",
        "    res=(320, 240),\n",
        "    pos=(3.5, 2.0, 2.5),\n",
        "    lookat=(0, 0, 0.5),\n",
        "    fov=30,\n",
        ")"
      ],
      "metadata": {
        "id": "X-Be1A82jALI"
      },
      "execution_count": 8,
      "outputs": []
    },
    {
      "cell_type": "code",
      "source": [
        "scene.build()"
      ],
      "metadata": {
        "colab": {
          "base_uri": "https://localhost:8080/"
        },
        "id": "K3uzqKbIjHYc",
        "outputId": "7814be05-4b3b-4134-a280-5ee460565806"
      },
      "execution_count": 9,
      "outputs": [
        {
          "output_type": "stream",
          "name": "stderr",
          "text": [
            "\u001b[38;5;159m[Genesis] [22:16:05] [INFO] Building scene \u001b[38;5;121m\u001b[3m<acae445>\u001b[0m\u001b[38;5;159m...\u001b[0m\n",
            "INFO:genesis:Building scene ~~~<<acae445>>~~~...\n",
            "\u001b[38;5;159m[Genesis] [22:16:11] [INFO] Compiling simulation kernels...\u001b[0m\n",
            "INFO:genesis:Compiling simulation kernels...\n",
            "\u001b[38;5;159m[Genesis] [22:16:19] [INFO] Building visualizer...\u001b[0m\n",
            "INFO:genesis:Building visualizer...\n"
          ]
        }
      ]
    },
    {
      "cell_type": "code",
      "source": [
        "# Render and save images\n",
        "for i in range(30):\n",
        "    scene.step()\n",
        "    if i % 5 == 0:\n",
        "        print(f\"Step {i}/30\")\n",
        "        rgb_data = cam.render(rgb=True)\n",
        "\n",
        "        # rgb_data[0] contains the actual image data\n",
        "        img_array = rgb_data[0]\n",
        "        img = Image.fromarray((img_array * 255).astype(np.uint8))\n",
        "        img.save(f\"{save_dir}/frame_{i:03d}.png\")\n",
        "        print(f\"Frame {i} saved to {save_dir}\")"
      ],
      "metadata": {
        "colab": {
          "base_uri": "https://localhost:8080/"
        },
        "id": "FW8KnbNojlX4",
        "outputId": "cda44068-ec7e-4114-cbb7-fb3bf0ce3c2e"
      },
      "execution_count": 10,
      "outputs": [
        {
          "output_type": "stream",
          "name": "stderr",
          "text": [
            "\u001b[38;5;159m[Genesis] [22:16:38] [INFO] Running at \u001b[38;5;121m2297.81\u001b[0m\u001b[38;5;159m FPS.\u001b[0m\n",
            "INFO:genesis:Running at ~<2297.81>~ FPS.\n"
          ]
        },
        {
          "output_type": "stream",
          "name": "stdout",
          "text": [
            "Step 0/30\n"
          ]
        },
        {
          "output_type": "stream",
          "name": "stderr",
          "text": [
            "\u001b[38;5;159m[Genesis] [22:16:56] [INFO] Running at \u001b[38;5;121m1.11\u001b[0m\u001b[38;5;159m FPS.\u001b[0m\n",
            "INFO:genesis:Running at ~<1.11>~ FPS.\n",
            "\u001b[38;5;159m[Genesis] [22:16:56] [INFO] Running at \u001b[38;5;121m1.17\u001b[0m\u001b[38;5;159m FPS.\u001b[0m\n",
            "INFO:genesis:Running at ~<1.17>~ FPS.\n",
            "\u001b[38;5;159m[Genesis] [22:16:56] [INFO] Running at \u001b[38;5;121m1.23\u001b[0m\u001b[38;5;159m FPS.\u001b[0m\n",
            "INFO:genesis:Running at ~<1.23>~ FPS.\n",
            "\u001b[38;5;159m[Genesis] [22:16:56] [INFO] Running at \u001b[38;5;121m1.29\u001b[0m\u001b[38;5;159m FPS.\u001b[0m\n",
            "INFO:genesis:Running at ~<1.29>~ FPS.\n",
            "\u001b[38;5;159m[Genesis] [22:16:56] [INFO] Running at \u001b[38;5;121m1.36\u001b[0m\u001b[38;5;159m FPS.\u001b[0m\n",
            "INFO:genesis:Running at ~<1.36>~ FPS.\n"
          ]
        },
        {
          "output_type": "stream",
          "name": "stdout",
          "text": [
            "Frame 0 saved to /content/simulation_frames\n",
            "Step 5/30\n"
          ]
        },
        {
          "output_type": "stream",
          "name": "stderr",
          "text": [
            "\u001b[38;5;159m[Genesis] [22:17:14] [INFO] Running at \u001b[38;5;121m0.63\u001b[0m\u001b[38;5;159m FPS.\u001b[0m\n",
            "INFO:genesis:Running at ~<0.63>~ FPS.\n",
            "\u001b[38;5;159m[Genesis] [22:17:14] [INFO] Running at \u001b[38;5;121m0.67\u001b[0m\u001b[38;5;159m FPS.\u001b[0m\n",
            "INFO:genesis:Running at ~<0.67>~ FPS.\n",
            "\u001b[38;5;159m[Genesis] [22:17:14] [INFO] Running at \u001b[38;5;121m0.70\u001b[0m\u001b[38;5;159m FPS.\u001b[0m\n",
            "INFO:genesis:Running at ~<0.70>~ FPS.\n",
            "\u001b[38;5;159m[Genesis] [22:17:14] [INFO] Running at \u001b[38;5;121m0.74\u001b[0m\u001b[38;5;159m FPS.\u001b[0m\n",
            "INFO:genesis:Running at ~<0.74>~ FPS.\n",
            "\u001b[38;5;159m[Genesis] [22:17:14] [INFO] Running at \u001b[38;5;121m0.78\u001b[0m\u001b[38;5;159m FPS.\u001b[0m\n",
            "INFO:genesis:Running at ~<0.78>~ FPS.\n"
          ]
        },
        {
          "output_type": "stream",
          "name": "stdout",
          "text": [
            "Frame 5 saved to /content/simulation_frames\n",
            "Step 10/30\n"
          ]
        },
        {
          "output_type": "stream",
          "name": "stderr",
          "text": [
            "\u001b[38;5;159m[Genesis] [22:17:32] [INFO] Running at \u001b[38;5;121m0.47\u001b[0m\u001b[38;5;159m FPS.\u001b[0m\n",
            "INFO:genesis:Running at ~<0.47>~ FPS.\n",
            "\u001b[38;5;159m[Genesis] [22:17:32] [INFO] Running at \u001b[38;5;121m0.50\u001b[0m\u001b[38;5;159m FPS.\u001b[0m\n",
            "INFO:genesis:Running at ~<0.50>~ FPS.\n",
            "\u001b[38;5;159m[Genesis] [22:17:32] [INFO] Running at \u001b[38;5;121m0.53\u001b[0m\u001b[38;5;159m FPS.\u001b[0m\n",
            "INFO:genesis:Running at ~<0.53>~ FPS.\n",
            "\u001b[38;5;159m[Genesis] [22:17:32] [INFO] Running at \u001b[38;5;121m0.55\u001b[0m\u001b[38;5;159m FPS.\u001b[0m\n",
            "INFO:genesis:Running at ~<0.55>~ FPS.\n",
            "\u001b[38;5;159m[Genesis] [22:17:32] [INFO] Running at \u001b[38;5;121m0.58\u001b[0m\u001b[38;5;159m FPS.\u001b[0m\n",
            "INFO:genesis:Running at ~<0.58>~ FPS.\n"
          ]
        },
        {
          "output_type": "stream",
          "name": "stdout",
          "text": [
            "Frame 10 saved to /content/simulation_frames\n",
            "Step 15/30\n"
          ]
        },
        {
          "output_type": "stream",
          "name": "stderr",
          "text": [
            "\u001b[38;5;159m[Genesis] [22:17:49] [INFO] Running at \u001b[38;5;121m0.40\u001b[0m\u001b[38;5;159m FPS.\u001b[0m\n",
            "INFO:genesis:Running at ~<0.40>~ FPS.\n",
            "\u001b[38;5;159m[Genesis] [22:17:49] [INFO] Running at \u001b[38;5;121m0.42\u001b[0m\u001b[38;5;159m FPS.\u001b[0m\n",
            "INFO:genesis:Running at ~<0.42>~ FPS.\n",
            "\u001b[38;5;159m[Genesis] [22:17:49] [INFO] Running at \u001b[38;5;121m0.44\u001b[0m\u001b[38;5;159m FPS.\u001b[0m\n",
            "INFO:genesis:Running at ~<0.44>~ FPS.\n",
            "\u001b[38;5;159m[Genesis] [22:17:49] [INFO] Running at \u001b[38;5;121m0.46\u001b[0m\u001b[38;5;159m FPS.\u001b[0m\n",
            "INFO:genesis:Running at ~<0.46>~ FPS.\n",
            "\u001b[38;5;159m[Genesis] [22:17:49] [INFO] Running at \u001b[38;5;121m0.49\u001b[0m\u001b[38;5;159m FPS.\u001b[0m\n",
            "INFO:genesis:Running at ~<0.49>~ FPS.\n"
          ]
        },
        {
          "output_type": "stream",
          "name": "stdout",
          "text": [
            "Frame 15 saved to /content/simulation_frames\n",
            "Step 20/30\n"
          ]
        },
        {
          "output_type": "stream",
          "name": "stderr",
          "text": [
            "\u001b[38;5;159m[Genesis] [22:18:07] [INFO] Running at \u001b[38;5;121m0.35\u001b[0m\u001b[38;5;159m FPS.\u001b[0m\n",
            "INFO:genesis:Running at ~<0.35>~ FPS.\n",
            "\u001b[38;5;159m[Genesis] [22:18:07] [INFO] Running at \u001b[38;5;121m0.37\u001b[0m\u001b[38;5;159m FPS.\u001b[0m\n",
            "INFO:genesis:Running at ~<0.37>~ FPS.\n",
            "\u001b[38;5;159m[Genesis] [22:18:07] [INFO] Running at \u001b[38;5;121m0.39\u001b[0m\u001b[38;5;159m FPS.\u001b[0m\n",
            "INFO:genesis:Running at ~<0.39>~ FPS.\n",
            "\u001b[38;5;159m[Genesis] [22:18:07] [INFO] Running at \u001b[38;5;121m0.41\u001b[0m\u001b[38;5;159m FPS.\u001b[0m\n",
            "INFO:genesis:Running at ~<0.41>~ FPS.\n",
            "\u001b[38;5;159m[Genesis] [22:18:07] [INFO] Running at \u001b[38;5;121m0.43\u001b[0m\u001b[38;5;159m FPS.\u001b[0m\n",
            "INFO:genesis:Running at ~<0.43>~ FPS.\n"
          ]
        },
        {
          "output_type": "stream",
          "name": "stdout",
          "text": [
            "Frame 20 saved to /content/simulation_frames\n",
            "Step 25/30\n"
          ]
        },
        {
          "output_type": "stream",
          "name": "stderr",
          "text": [
            "\u001b[38;5;159m[Genesis] [22:18:24] [INFO] Running at \u001b[38;5;121m0.33\u001b[0m\u001b[38;5;159m FPS.\u001b[0m\n",
            "INFO:genesis:Running at ~<0.33>~ FPS.\n",
            "\u001b[38;5;159m[Genesis] [22:18:24] [INFO] Running at \u001b[38;5;121m0.35\u001b[0m\u001b[38;5;159m FPS.\u001b[0m\n",
            "INFO:genesis:Running at ~<0.35>~ FPS.\n",
            "\u001b[38;5;159m[Genesis] [22:18:24] [INFO] Running at \u001b[38;5;121m0.36\u001b[0m\u001b[38;5;159m FPS.\u001b[0m\n",
            "INFO:genesis:Running at ~<0.36>~ FPS.\n",
            "\u001b[38;5;159m[Genesis] [22:18:24] [INFO] Running at \u001b[38;5;121m0.38\u001b[0m\u001b[38;5;159m FPS.\u001b[0m\n",
            "INFO:genesis:Running at ~<0.38>~ FPS.\n"
          ]
        },
        {
          "output_type": "stream",
          "name": "stdout",
          "text": [
            "Frame 25 saved to /content/simulation_frames\n"
          ]
        }
      ]
    }
  ],
  "metadata": {
    "colab": {
      "provenance": [],
      "machine_shape": "hm",
      "gpuType": "A100"
    },
    "kernelspec": {
      "display_name": "Python 3",
      "name": "python3"
    },
    "language_info": {
      "name": "python"
    },
    "accelerator": "GPU"
  },
  "nbformat": 4,
  "nbformat_minor": 0
}